{
 "cells": [
  {
   "cell_type": "markdown",
   "metadata": {},
   "source": [
    "# Numpy Assignment"
   ]
  },
  {
   "cell_type": "markdown",
   "metadata": {},
   "source": [
    "*Prafful Agrawal*  \n",
    "*02/10/2020*"
   ]
  },
  {
   "cell_type": "markdown",
   "metadata": {},
   "source": [
    "### Ques.1"
   ]
  },
  {
   "cell_type": "markdown",
   "metadata": {},
   "source": [
    "Write a function so that the columns of the output matrix are powers of the input vector.\n",
    "\n",
    "The order of the powers is determined by the `increasing` boolean argument. Specifically, when `increasing` is **False**, the *i<sup>th</sup>* output column is the input vector raised element-wise to the power of **N - i - 1.**\n",
    "\n",
    "**HINT:** Such a matrix with a geometric progression in each row is named for **Alexandre Theophile Vandermonde.**"
   ]
  },
  {
   "cell_type": "markdown",
   "metadata": {},
   "source": [
    "### Solution"
   ]
  },
  {
   "cell_type": "code",
   "execution_count": 1,
   "metadata": {
    "scrolled": true
   },
   "outputs": [],
   "source": [
    "# Import 'numpy' package\n",
    "import numpy as np\n",
    "\n",
    "# Custom 'vander' function\n",
    "def my_vander(x, N = None, increasing = False) :\n",
    "    # Number of columns\n",
    "    if N is None :\n",
    "        N = len(x)\n",
    "    elif N <= 1 or type(N) != int :\n",
    "        print(\"Execution Halted!\\nError: Invalid number of columns\")\n",
    "        return None\n",
    "    \n",
    "    # Compute Vandermonde matrix\n",
    "    try :\n",
    "        return np.array([a**(N-i-1) if increasing == False else a**i\n",
    "                         for a in x for i in range(N)]).reshape(-1, N)\n",
    "    except Exception as e :\n",
    "        print(\"Execution Halted!\\nError:\", e)\n",
    "        return None"
   ]
  },
  {
   "cell_type": "code",
   "execution_count": 2,
   "metadata": {},
   "outputs": [
    {
     "data": {
      "text/plain": [
       "array([[ 1,  1,  1,  1],\n",
       "       [ 8,  4,  2,  1],\n",
       "       [27,  9,  3,  1],\n",
       "       [64, 16,  4,  1]])"
      ]
     },
     "execution_count": 2,
     "metadata": {},
     "output_type": "execute_result"
    }
   ],
   "source": [
    "# Test 01\n",
    "x = np.array([1, 2, 3, 4])\n",
    "\n",
    "my_vander(x)"
   ]
  },
  {
   "cell_type": "code",
   "execution_count": 3,
   "metadata": {},
   "outputs": [
    {
     "data": {
      "text/plain": [
       "array([[  1,   1,   1,   1,   1],\n",
       "       [  1,   2,   4,   8,  16],\n",
       "       [  1,   3,   9,  27,  81],\n",
       "       [  1,   4,  16,  64, 256]])"
      ]
     },
     "execution_count": 3,
     "metadata": {},
     "output_type": "execute_result"
    }
   ],
   "source": [
    "# Test 02\n",
    "x = np.array([1, 2, 3, 4])\n",
    "N = 5\n",
    "increasing = True\n",
    "\n",
    "my_vander(x, N, increasing)"
   ]
  },
  {
   "cell_type": "markdown",
   "metadata": {},
   "source": [
    "### Ques.2"
   ]
  },
  {
   "cell_type": "markdown",
   "metadata": {},
   "source": [
    "Given a sequence of **n** values *x<sub>1</sub>, x<sub>2</sub>, ..., x<sub>n</sub>* and a window size **k > 0**, the *k<sup>th</sup>* moving average of the given sequence is defined as follows:\n",
    "\n",
    "$$\n",
    "y_{1} = \\frac{1}{k}(x_{1} + x_{2} + \\dots + x_{k}) \\\\\n",
    "y_{2} = \\frac{1}{k}(x_{2} + x_{3} + \\dots + x_{k+1}) \\\\\n",
    "y_{3} = \\frac{1}{k}(x_{3} + x_{4} + \\dots + x_{k+2}) \\\\\n",
    "\\dots\\dots\\dots \\\\\n",
    "y_{n-k+1} = \\frac{1}{k}(x_{n-k+1} + x_{n-k+2} + \\dots + x_{n})\n",
    "$$\n",
    "\n",
    "The moving average sequence has **n - k + 1** elements as shown below.\n",
    "\n",
    "**Example:** The moving averages with **k = 4** of a ten-value sequence **(n = 10)** is shown below -\n",
    "\n",
    "```\n",
    "i     1  2  3  4  5  6  7  8  9  10\n",
    "===== == == == == == == == == == ==\n",
    "Input 10 20 30 40 50 60 70 80 90 100\n",
    "y1    25 = (10 + 20 + 30 + 40)/4\n",
    "y2       35 = (20 + 30 + 40 + 50)/4\n",
    "y3          45 = (30 + 40 + 50 + 60)/4\n",
    "y4             55 = (40 + 50 + 60 + 70)/4\n",
    "y5                65 = (50 + 60 + 70 + 80)/4\n",
    "y6                   75 = (60 + 70 + 80 + 90)/4\n",
    "y7                      85 = (70 + 80 + 90 + 100)/4\n",
    "```\n",
    "\n",
    "Thus, the moving average sequence has `n - k + 1` = `10 - 4 + 1` = `7` values.\n",
    "\n",
    "**Question:** Write a function to find moving average in an array over a window.\n",
    "\n",
    "Test it over `[3, 5, 7, 2, 8, 10, 11, 65, 72, 81, 99, 100, 150]` and window of `3`."
   ]
  },
  {
   "cell_type": "markdown",
   "metadata": {},
   "source": [
    "### Solution"
   ]
  },
  {
   "cell_type": "code",
   "execution_count": 4,
   "metadata": {},
   "outputs": [],
   "source": [
    "# Moving average function\n",
    "def moving_avg(seq, k = 1) :\n",
    "    # Check input window\n",
    "    if k < 1 or type(k) != int :\n",
    "        print(\"Execution Halted!\\nError: Invalid window size\")\n",
    "        return None\n",
    "    \n",
    "    # Calculate moving averages\n",
    "    try :\n",
    "        return [round(sum(seq[i:i+k])/k, 2) for i in range(len(seq)-k+1)]\n",
    "    except :\n",
    "        print(\"Execution Halted!\\nError: Invalid sequence\")"
   ]
  },
  {
   "cell_type": "code",
   "execution_count": 5,
   "metadata": {},
   "outputs": [
    {
     "data": {
      "text/plain": [
       "[5.0, 4.67, 5.67, 6.67, 9.67, 28.67, 49.33, 72.67, 84.0, 93.33, 116.33]"
      ]
     },
     "execution_count": 5,
     "metadata": {},
     "output_type": "execute_result"
    }
   ],
   "source": [
    "# Test\n",
    "sequence = [3, 5, 7, 2, 8, 10, 11, 65, 72, 81, 99, 100, 150]\n",
    "window = 3\n",
    "\n",
    "moving_avg(sequence, window)"
   ]
  }
 ],
 "metadata": {
  "kernelspec": {
   "display_name": "Python 3",
   "language": "python",
   "name": "python3"
  },
  "language_info": {
   "codemirror_mode": {
    "name": "ipython",
    "version": 3
   },
   "file_extension": ".py",
   "mimetype": "text/x-python",
   "name": "python",
   "nbconvert_exporter": "python",
   "pygments_lexer": "ipython3",
   "version": "3.8.3"
  }
 },
 "nbformat": 4,
 "nbformat_minor": 4
}
