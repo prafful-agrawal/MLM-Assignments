{
 "cells": [
  {
   "cell_type": "markdown",
   "metadata": {},
   "source": [
    "# Python Assignment 4"
   ]
  },
  {
   "cell_type": "markdown",
   "metadata": {},
   "source": [
    "*Prafful Agrawal*  \n",
    "*09/09/2020*"
   ]
  },
  {
   "cell_type": "markdown",
   "metadata": {},
   "source": [
    "### Ques.1.1"
   ]
  },
  {
   "cell_type": "markdown",
   "metadata": {},
   "source": [
    "Write a Python Program (with *class* concepts) to find the area of the triangle using the formula:\n",
    "```\n",
    "area = (s*(s-a)*(s-b)*(s-c)) ** 0.5\n",
    "```\n",
    "Function to take the length of the sides of triangle from user should be defined in the parent class and function to calculate the area should be defined in subclass."
   ]
  },
  {
   "cell_type": "markdown",
   "metadata": {},
   "source": [
    "### Solution"
   ]
  },
  {
   "cell_type": "code",
   "execution_count": 1,
   "metadata": {},
   "outputs": [],
   "source": [
    "# Parent class\n",
    "class triangle() :\n",
    "    def __init__(self, a, b, c) :\n",
    "        self.a = a\n",
    "        self.b = b\n",
    "        self.c = c\n",
    "    \n",
    "    def perimeter(self) :\n",
    "        # Calculate the perimeter\n",
    "        return self.a + self.b + self.c\n",
    "    \n",
    "    def __str__(self):\n",
    "        return \"Triangle with sides equal to %.2f, %.2f and %.2f units.\" %(self.a, self.b, self.c)"
   ]
  },
  {
   "cell_type": "code",
   "execution_count": 2,
   "metadata": {},
   "outputs": [],
   "source": [
    "# Child/Subclass\n",
    "class triangle_area(triangle) :\n",
    "    def __init__(self, *args) :\n",
    "        super(triangle_area, self).__init__(*args)\n",
    "        \n",
    "    def area(self) :\n",
    "        # Calculate 's' which is equal to half of perimeter\n",
    "        self.s = self.perimeter() / 2\n",
    "        # Calculate the area\n",
    "        return (self.s * (self.s - self.a) * (self.s - self.b) * (self.s - self.c)) ** 0.5\n",
    "    \n",
    "    def __str__(self):\n",
    "        return super(triangle_area, self).__str__() + \"\\nAnd, an area of %.2f square units.\" %(self.area())"
   ]
  },
  {
   "cell_type": "code",
   "execution_count": 3,
   "metadata": {},
   "outputs": [
    {
     "name": "stdout",
     "output_type": "stream",
     "text": [
      "Triangle with sides equal to 8.56, 5.76 and 4.40 units.\n"
     ]
    }
   ],
   "source": [
    "# Test\n",
    "t = triangle(8.563, 5.756, 4.398)\n",
    "print(t)"
   ]
  },
  {
   "cell_type": "code",
   "execution_count": 4,
   "metadata": {},
   "outputs": [
    {
     "name": "stdout",
     "output_type": "stream",
     "text": [
      "Triangle with sides equal to 8.56, 5.76 and 4.40 units.\n",
      "And, an area of 11.53 square units.\n"
     ]
    }
   ],
   "source": [
    "t = triangle_area(8.563, 5.756, 4.398)\n",
    "print(t)"
   ]
  },
  {
   "cell_type": "markdown",
   "metadata": {},
   "source": [
    "### Ques.1.2"
   ]
  },
  {
   "cell_type": "markdown",
   "metadata": {},
   "source": [
    "Write a function `filter_long_words()` that takes a list of words and an integer `n` and returns the list of words that are **longer than n**."
   ]
  },
  {
   "cell_type": "markdown",
   "metadata": {},
   "source": [
    "### Solution"
   ]
  },
  {
   "cell_type": "code",
   "execution_count": 5,
   "metadata": {},
   "outputs": [],
   "source": [
    "# Function to filter long words from a list\n",
    "def filter_long_words(word_list, n) :\n",
    "    return list(filter(lambda word: len(word) > n, word_list))"
   ]
  },
  {
   "cell_type": "code",
   "execution_count": 6,
   "metadata": {},
   "outputs": [
    {
     "data": {
      "text/plain": [
       "['pqrst', 'uvwxyz']"
      ]
     },
     "execution_count": 6,
     "metadata": {},
     "output_type": "execute_result"
    }
   ],
   "source": [
    "# Test\n",
    "filter_long_words([\"abcd\", \"pqrst\", \"uvwxyz\"], 4)"
   ]
  },
  {
   "cell_type": "markdown",
   "metadata": {},
   "source": [
    "### Ques.2.1"
   ]
  },
  {
   "cell_type": "markdown",
   "metadata": {},
   "source": [
    "Write a Python program (using *function* concepts) that maps a list of words into a list of integers representing the lengths of the corresponding words.\n",
    "\n",
    "**Hint:** If a list `[ab, cde, erty]` is passed on to the python function output should come as `[2, 3, 4]`.\n",
    "\n",
    "Here, 2, 3 and 4 are the lengths of the words in the list."
   ]
  },
  {
   "cell_type": "markdown",
   "metadata": {},
   "source": [
    "### Solution"
   ]
  },
  {
   "cell_type": "code",
   "execution_count": 7,
   "metadata": {},
   "outputs": [],
   "source": [
    "# Function to find lengths of words in a list\n",
    "def find_lengths(word_list) :\n",
    "    return list(map(lambda word: len(word), word_list))"
   ]
  },
  {
   "cell_type": "code",
   "execution_count": 8,
   "metadata": {},
   "outputs": [
    {
     "data": {
      "text/plain": [
       "[4, 5, 6]"
      ]
     },
     "execution_count": 8,
     "metadata": {},
     "output_type": "execute_result"
    }
   ],
   "source": [
    "# Test\n",
    "find_lengths([\"abcd\", \"pqrst\", \"uvwxyz\"])"
   ]
  },
  {
   "cell_type": "markdown",
   "metadata": {},
   "source": [
    "### Ques.2.2"
   ]
  },
  {
   "cell_type": "markdown",
   "metadata": {},
   "source": [
    "Write a Python function which takes a character (i.e. a string of length *1*) and returns `True` if it is a vowel, `False` otherwise."
   ]
  },
  {
   "cell_type": "markdown",
   "metadata": {},
   "source": [
    "### Solution"
   ]
  },
  {
   "cell_type": "code",
   "execution_count": 9,
   "metadata": {},
   "outputs": [],
   "source": [
    "# Function to check whether a character is vowel\n",
    "def is_vowel(char) :\n",
    "    if type(char) != str or len(char) != 1 :\n",
    "        print(\"Invalid input\")\n",
    "    else :\n",
    "        return char in ['a', 'A', 'e', 'E', 'i', 'I', 'o', 'O', 'u', 'U']"
   ]
  },
  {
   "cell_type": "code",
   "execution_count": 10,
   "metadata": {},
   "outputs": [
    {
     "data": {
      "text/plain": [
       "True"
      ]
     },
     "execution_count": 10,
     "metadata": {},
     "output_type": "execute_result"
    }
   ],
   "source": [
    "# Test\n",
    "is_vowel(\"i\")"
   ]
  },
  {
   "cell_type": "code",
   "execution_count": 11,
   "metadata": {
    "scrolled": true
   },
   "outputs": [
    {
     "data": {
      "text/plain": [
       "False"
      ]
     },
     "execution_count": 11,
     "metadata": {},
     "output_type": "execute_result"
    }
   ],
   "source": [
    "is_vowel(\"X\")"
   ]
  },
  {
   "cell_type": "code",
   "execution_count": 12,
   "metadata": {},
   "outputs": [
    {
     "name": "stdout",
     "output_type": "stream",
     "text": [
      "Invalid input\n"
     ]
    }
   ],
   "source": [
    "is_vowel(\"iX\")"
   ]
  }
 ],
 "metadata": {
  "kernelspec": {
   "display_name": "Python 3",
   "language": "python",
   "name": "python3"
  },
  "language_info": {
   "codemirror_mode": {
    "name": "ipython",
    "version": 3
   },
   "file_extension": ".py",
   "mimetype": "text/x-python",
   "name": "python",
   "nbconvert_exporter": "python",
   "pygments_lexer": "ipython3",
   "version": "3.8.3"
  }
 },
 "nbformat": 4,
 "nbformat_minor": 4
}
